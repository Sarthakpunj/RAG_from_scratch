{
  "nbformat": 4,
  "nbformat_minor": 0,
  "metadata": {
    "colab": {
      "provenance": [],
      "authorship_tag": "ABX9TyPSANjLPEMySJff1sxDRQLh",
      "include_colab_link": true
    },
    "kernelspec": {
      "name": "python3",
      "display_name": "Python 3"
    },
    "language_info": {
      "name": "python"
    }
  },
  "cells": [
    {
      "cell_type": "markdown",
      "metadata": {
        "id": "view-in-github",
        "colab_type": "text"
      },
      "source": [
        "<a href=\"https://colab.research.google.com/github/Sarthakpunj/RAG_from_scratch/blob/main/rag_implementation_scratch.ipynb\" target=\"_parent\"><img src=\"https://colab.research.google.com/assets/colab-badge.svg\" alt=\"Open In Colab\"/></a>"
      ]
    },
    {
      "cell_type": "code",
      "execution_count": 25,
      "metadata": {
        "id": "sPfbj_rIN9x4"
      },
      "outputs": [],
      "source": [
        "corpus = [\n",
        "    \"In a quiet forest, there lived a wise old owl.\",\n",
        "    \"He rarely spoke, but he saw and heard everything from his perch high in the trees.\",\n",
        "    \"Every day, the other animals would chatter loudly and argue with one another.\",\n",
        "    \"The squirrel would complain about the noisy woodpecker, the fox would boast about his clever tricks, and the rabbit would gossip about everyone else.\",\n",
        "    \"The owl listened but said nothing.\",\n",
        "    \"One day, the animals asked the owl, \\\"You’re so quiet. Don’t you have anything to say?\\\"\",\n",
        "    \"The owl finally replied, \\\"I’ve learned that the more I listen, the more I understand. And the more I talk, the less I learn.\\\"\",\n",
        "    \"The forest grew quiet.\",\n",
        "    \"From that day forward, the animals argued less and listened more.\",\n",
        "    \"Moral: Wisdom grows when we learn to listen more and speak less.\"\n",
        "]\n"
      ]
    },
    {
      "cell_type": "code",
      "source": [
        "#cosine similarity formula: A.B/|A||B|\n",
        "user_query = \"I am an Indian and i live in India\"\n",
        "Document =\"India is a country of Indians and for everyone\"\n",
        "#finding similarity between q and doc\n",
        "#step 1: convert data to vectors\n",
        "from collections import Counter\n",
        "import math\n",
        "user_query_tokens = user_query.lower().split(\" \") #lowering the capital and splitting based on space I am = {\"i\" and \"am\"}\n",
        "Document_tokens = Document.lower().split(\" \")\n",
        "print(user_query_tokens)\n",
        "print(Document_tokens)"
      ],
      "metadata": {
        "id": "DMNnYILfP6rv",
        "colab": {
          "base_uri": "https://localhost:8080/"
        },
        "outputId": "2763f4d4-f09b-4156-fa38-58adebc8baaa"
      },
      "execution_count": 2,
      "outputs": [
        {
          "output_type": "stream",
          "name": "stdout",
          "text": [
            "['i', 'am', 'an', 'indian', 'and', 'i', 'live', 'in', 'india']\n",
            "['india', 'is', 'a', 'country', 'of', 'indians', 'and', 'for', 'everyone']\n"
          ]
        }
      ]
    },
    {
      "cell_type": "code",
      "source": [
        "# 2 making tokens to numbers , we wil use counter to count and based on frequency we assign number: this will be embedding\n",
        "query_counter=Counter(user_query_tokens)\n",
        "documnet_counter=Counter(Document_tokens)\n",
        "print(query_counter)\n",
        "print(documnet_counter)"
      ],
      "metadata": {
        "colab": {
          "base_uri": "https://localhost:8080/"
        },
        "id": "lVdNo71xRguM",
        "outputId": "eb6de59c-656a-4649-84d2-d69f95a021e2"
      },
      "execution_count": 13,
      "outputs": [
        {
          "output_type": "stream",
          "name": "stdout",
          "text": [
            "Counter({'i': 2, 'am': 1, 'an': 1, 'indian': 1, 'and': 1, 'live': 1, 'in': 1, 'india': 1})\n",
            "Counter({'india': 1, 'is': 1, 'a': 1, 'country': 1, 'of': 1, 'indians': 1, 'and': 1, 'for': 1, 'everyone': 1})\n"
          ]
        }
      ]
    },
    {
      "cell_type": "code",
      "source": [
        "#3 finding cosine similarity\n",
        "for tokens in query_counter.keys() & documnet_counter.keys():\n",
        "    print(tokens)# this gives word common in both"
      ],
      "metadata": {
        "colab": {
          "base_uri": "https://localhost:8080/"
        },
        "id": "YZ2e_nl1SZV2",
        "outputId": "5aaa0f47-6fa1-4ef2-b863-4216a451bc73"
      },
      "execution_count": 14,
      "outputs": [
        {
          "output_type": "stream",
          "name": "stdout",
          "text": [
            "india\n",
            "and\n"
          ]
        }
      ]
    },
    {
      "cell_type": "code",
      "source": [
        "lst = []\n",
        "for tokens in query_counter.keys() & documnet_counter.keys():\n",
        "    lst.append(query_counter[tokens]*documnet_counter[tokens])# perform dot product= india:1 and:1 = [1,1] (india *india = 1*1 = 1 similar with and)=[1,1] now after this we add 1 and 1 = 2\n",
        "print(lst)"
      ],
      "metadata": {
        "colab": {
          "base_uri": "https://localhost:8080/"
        },
        "id": "Z7-jvM3CTQ7L",
        "outputId": "cdc2eb33-1edf-4d47-eb36-7b3313312d72"
      },
      "execution_count": 16,
      "outputs": [
        {
          "output_type": "stream",
          "name": "stdout",
          "text": [
            "[1, 1]\n"
          ]
        }
      ]
    },
    {
      "cell_type": "code",
      "source": [
        "dot_prod=sum(lst) # A.B"
      ],
      "metadata": {
        "id": "lDPz0V2WVMLX"
      },
      "execution_count": 20,
      "outputs": []
    },
    {
      "cell_type": "code",
      "source": [
        "#magnitude of vector sqrt(a**2 +b**@)\n",
        "query_mag = math.sqrt(sum(query_counter[tokens]**2 for tokens in query_counter))\n",
        "documnet_mag = math.sqrt(sum(documnet_counter[tokens]**2 for tokens in documnet_counter))\n",
        "print(query_mag)\n",
        "print(documnet_mag)"
      ],
      "metadata": {
        "colab": {
          "base_uri": "https://localhost:8080/"
        },
        "id": "7mmBtvcQVRHx",
        "outputId": "03b2c11c-6ad8-4be4-e901-02fdca74306a"
      },
      "execution_count": 18,
      "outputs": [
        {
          "output_type": "stream",
          "name": "stdout",
          "text": [
            "3.3166247903554\n",
            "3.0\n"
          ]
        }
      ]
    },
    {
      "cell_type": "code",
      "source": [
        "similarity = (dot_prod)/(query_mag*documnet_mag)\n",
        "print(similarity)"
      ],
      "metadata": {
        "colab": {
          "base_uri": "https://localhost:8080/"
        },
        "id": "0eeREBawWCFq",
        "outputId": "92b75a77-95dd-4f60-be23-d13a53ed0577"
      },
      "execution_count": 21,
      "outputs": [
        {
          "output_type": "stream",
          "name": "stdout",
          "text": [
            "0.20100756305184242\n"
          ]
        }
      ]
    },
    {
      "cell_type": "code",
      "source": [
        "#creating a function\n",
        "def cosine_similarity(query, document):\n",
        "    # Tokenize and convert to lowercase\n",
        "    query_tokens = query.lower().split(\" \")\n",
        "    document_tokens = document.lower().split(\" \")\n",
        "\n",
        "    # Create Counters for query and document\n",
        "    query_counter = Counter(query_tokens)\n",
        "    document_counter = Counter(document_tokens)\n",
        "\n",
        "    # Calculate dot product\n",
        "    dot_product = sum(query_counter[token] * document_counter[token] for token in query_counter.keys() & document_counter.keys())\n",
        "\n",
        "    # Calculate magnitudes\n",
        "    query_magnitude = math.sqrt(sum(query_counter[token] ** 2 for token in query_counter))\n",
        "    document_magnitude = math.sqrt(sum(document_counter[token] ** 2 for token in document_counter))\n",
        "\n",
        "    # Calculate cosine similarity\n",
        "    similarity = dot_product / (query_magnitude * document_magnitude) if query_magnitude * document_magnitude != 0 else 0\n",
        "\n",
        "    return similarity"
      ],
      "metadata": {
        "id": "6nOo8sydWcOR"
      },
      "execution_count": 22,
      "outputs": []
    },
    {
      "cell_type": "code",
      "source": [
        "user_query = \"I am an Indian and i live in India\"\n",
        "Document =\"India is a country of Indians and for everyone\"\n",
        "cosine_similarity(user_query, Document)"
      ],
      "metadata": {
        "colab": {
          "base_uri": "https://localhost:8080/"
        },
        "id": "r0T3pDogWtlL",
        "outputId": "f9ab3077-5223-410f-cb65-24867c9cb936"
      },
      "execution_count": 23,
      "outputs": [
        {
          "output_type": "execute_result",
          "data": {
            "text/plain": [
              "0.20100756305184242"
            ]
          },
          "metadata": {},
          "execution_count": 23
        }
      ]
    },
    {
      "cell_type": "code",
      "source": [
        "#this method will take user query and whol corpus for each document in corpus it will find similarity of each document with user query and we will get a score then we find which is the max score/ most relatable doc from corpus and returen that\n",
        "def return_response(query, corpus):\n",
        "    similarities = []\n",
        "    for doc in corpus:\n",
        "        similarity = cosine_similarity(query, doc)\n",
        "        similarities.append(similarity)\n",
        "    return corpus[similarities.index(max(similarities))]"
      ],
      "metadata": {
        "id": "gbhSiHt2XiGq"
      },
      "execution_count": 27,
      "outputs": []
    },
    {
      "cell_type": "code",
      "source": [
        "corpus"
      ],
      "metadata": {
        "colab": {
          "base_uri": "https://localhost:8080/"
        },
        "id": "U4XSN0S-YGj-",
        "outputId": "010a7ad1-c6e4-4ef9-d42e-5405b35cb056"
      },
      "execution_count": 26,
      "outputs": [
        {
          "output_type": "execute_result",
          "data": {
            "text/plain": [
              "['In a quiet forest, there lived a wise old owl.',\n",
              " 'He rarely spoke, but he saw and heard everything from his perch high in the trees.',\n",
              " 'Every day, the other animals would chatter loudly and argue with one another.',\n",
              " 'The squirrel would complain about the noisy woodpecker, the fox would boast about his clever tricks, and the rabbit would gossip about everyone else.',\n",
              " 'The owl listened but said nothing.',\n",
              " 'One day, the animals asked the owl, \"You’re so quiet. Don’t you have anything to say?\"',\n",
              " 'The owl finally replied, \"I’ve learned that the more I listen, the more I understand. And the more I talk, the less I learn.\"',\n",
              " 'The forest grew quiet.',\n",
              " 'From that day forward, the animals argued less and listened more.',\n",
              " 'Moral: Wisdom grows when we learn to listen more and speak less.']"
            ]
          },
          "metadata": {},
          "execution_count": 26
        }
      ]
    },
    {
      "cell_type": "code",
      "source": [
        "user_query = \"what did owl listen?\"\n",
        "return_response(user_query, corpus)"
      ],
      "metadata": {
        "colab": {
          "base_uri": "https://localhost:8080/",
          "height": 35
        },
        "id": "tjxGqBy2YKJr",
        "outputId": "d30f6bc5-4306-40ec-9326-b7c5801e0a5e"
      },
      "execution_count": 38,
      "outputs": [
        {
          "output_type": "execute_result",
          "data": {
            "text/plain": [
              "'The owl listened but said nothing.'"
            ],
            "application/vnd.google.colaboratory.intrinsic+json": {
              "type": "string"
            }
          },
          "metadata": {},
          "execution_count": 38
        }
      ]
    },
    {
      "cell_type": "code",
      "source": [
        "#rag is made now we configure llm to generate repsonse through gemini\n",
        "\n",
        "from google.colab import userdata\n",
        "import google.generativeai as genai\n",
        "#api= userdata.get('gemini')\n",
        "#configuring\n",
        "genai.configure(api_key=api)\n",
        "\n",
        "model = genai.GenerativeModel('gemini-2.0-flash')\n",
        "\n",
        "user_input = \"What lesson did the animals learn from the owl?\"\n",
        "relevant_document = return_response(user_input, corpus)\n",
        "\n",
        "prompt = f\"\"\"\n",
        "You are a bot that makes recommendations for activities. You answer in very short sentences and do not include extra information.\n",
        "This is the recommended activity: {relevant_document}\n",
        "The user input is: {user_input}\n",
        "Compile a recommendation to the user based on the recommended activity and the user input.\n",
        "\"\"\"\n",
        "\n",
        "\n"
      ],
      "metadata": {
        "id": "sowE8_AsYpAc"
      },
      "execution_count": 45,
      "outputs": []
    },
    {
      "cell_type": "code",
      "source": [
        "#response = model.generate_content(prompt)\n",
        "#print(response.text)"
      ],
      "metadata": {
        "id": "NtwQj3owcob9"
      },
      "execution_count": 46,
      "outputs": []
    }
  ]
}